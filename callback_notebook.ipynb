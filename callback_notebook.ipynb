{
 "metadata": {
  "language_info": {
   "codemirror_mode": {
    "name": "ipython",
    "version": 3
   },
   "file_extension": ".py",
   "mimetype": "text/x-python",
   "name": "python",
   "nbconvert_exporter": "python",
   "pygments_lexer": "ipython3",
   "version": "3.6.9"
  },
  "orig_nbformat": 2,
  "kernelspec": {
   "name": "python369jvsc74a57bd031f2aee4e71d21fbe5cf8b01ff0e069b9275f58929596ceb00d14d90e3e16cd6",
   "display_name": "Python 3.6.9 64-bit"
  },
  "metadata": {
   "interpreter": {
    "hash": "31f2aee4e71d21fbe5cf8b01ff0e069b9275f58929596ceb00d14d90e3e16cd6"
   }
  }
 },
 "nbformat": 4,
 "nbformat_minor": 2,
 "cells": [
  {
   "cell_type": "code",
   "execution_count": 1,
   "metadata": {},
   "outputs": [],
   "source": [
    "import gym\n",
    "import energym\n",
    "import numpy as np\n",
    "import matplotlib.pyplot as plt\n",
    "%matplotlib inline"
   ]
  },
  {
   "cell_type": "code",
   "execution_count": 2,
   "metadata": {},
   "outputs": [
    {
     "output_type": "stream",
     "name": "stderr",
     "text": [
      "[2021-05-05 10:22:03,820] EPLUS_ENV_discrete-hot-v1_MainThread_ROOT INFO:Creating EnergyPlus simulation environment...\n",
      "[2021-05-05 10:22:03,824] EPLUS_ENV_discrete-hot-v1_MainThread_ROOT INFO:EnergyPlus working directory is in /workspaces/energym/Eplus-env-discrete-hot-v1-res1/Eplus-env-sub_run1\n",
      "Reward:  -0.40314488461957476 {'timestep': 900.0, 'day': 1, 'month': 1, 'hour': 0, 'total_power': 1197.281193442195, 'total_power_no_units': -0.11972811934421951, 'comfort_penalty': -0.6865616498949301, 'temperature': 19.31343835010507, 'out_temperature': 4.4}\n",
      "Episode  0 Mean reward:  -0.40314488461957476 Cumulative reward:  -0.40314488461957476\n",
      "\n",
      "[4.40000000e+00 6.50000000e+01 3.87500000e+00 1.45000000e+02\n",
      " 0.00000000e+00 0.00000000e+00 1.80000000e+01 2.70000000e+01\n",
      " 1.93134384e+01 1.94445049e+01 2.56701305e+01 7.49999995e-01\n",
      " 3.39839742e+01 0.00000000e+00 2.09721298e+01 1.19728119e+03\n",
      " 1.00000000e+00 1.00000000e+00 0.00000000e+00]\n"
     ]
    }
   ],
   "source": [
    "env = gym.make('Eplus-discrete-hot-v1')\n",
    "\n",
    "for i in range(1):\n",
    "    obs = env.reset()\n",
    "    rewards = []\n",
    "    total_power = []\n",
    "    temp = []\n",
    "    out_temp = []\n",
    "    actions = []\n",
    "    done = False\n",
    "    current_month = 0\n",
    "\n",
    "    while not done:\n",
    "        a = env.action_space.sample()\n",
    "        obs, reward, done, info = env.step(a)\n",
    "        rewards.append(reward)\n",
    "        total_power.append(info['total_power'])\n",
    "        temp.append(info['temperature'])\n",
    "        out_temp.append(info['out_temperature'])\n",
    "        actions.append(a)\n",
    "        if info['month'] != current_month: # display results every month\n",
    "            current_month = info['month']\n",
    "            print('Reward: ', sum(rewards), info)\n",
    "        break\n",
    "    print('Episode ', i, 'Mean reward: ', np.mean(rewards), 'Cumulative reward: ', sum(rewards))\n",
    "    print()\n",
    "    print(obs)\n",
    "\n"
   ]
  },
  {
   "cell_type": "code",
   "execution_count": 3,
   "metadata": {},
   "outputs": [
    {
     "output_type": "execute_result",
     "data": {
      "text/plain": [
       "array([4.40000000e+00, 6.50000000e+01, 3.87500000e+00, 1.45000000e+02,\n",
       "       0.00000000e+00, 0.00000000e+00, 1.80000000e+01, 2.70000000e+01,\n",
       "       1.93134384e+01, 1.94445049e+01, 2.56701305e+01, 7.49999995e-01,\n",
       "       3.39839742e+01, 0.00000000e+00, 2.09721298e+01, 1.19728119e+03,\n",
       "       1.00000000e+00, 1.00000000e+00, 0.00000000e+00])"
      ]
     },
     "metadata": {},
     "execution_count": 3
    }
   ],
   "source": [
    "obs"
   ]
  },
  {
   "cell_type": "code",
   "execution_count": 4,
   "metadata": {},
   "outputs": [
    {
     "output_type": "execute_result",
     "data": {
      "text/plain": [
       "{'Site Outdoor Air Drybulb Temperature': 4.4,\n",
       " 'Site Outdoor Air Relative Humidity': 65.0,\n",
       " 'Site Wind Speed': 3.875,\n",
       " 'Site Wind Direction': 145.0,\n",
       " 'Site Diffuse Solar Radiation Rate per Area': 0.0,\n",
       " 'Site Direct Solar Radiation Rate per Area': 0.0,\n",
       " 'Zone Thermostat Heating Setpoint Temperature': 18.0,\n",
       " 'Zone Thermostat Cooling Setpoint Temperature': 27.0,\n",
       " 'Zone Air Temperature': 19.31343835010507,\n",
       " 'Zone Thermal Comfort Mean Radiant Temperature': 19.44450487839941,\n",
       " 'Zone Air Relative Humidity': 25.67013046197828,\n",
       " 'Zone Thermal Comfort Clothing Value': 0.7499999951999999,\n",
       " 'Zone Thermal Comfort Fanger Model PPD': 33.98397417761555,\n",
       " 'Zone People Occupant Count': 0.0,\n",
       " 'People Air Temperature': 20.97212981582051,\n",
       " 'Facility Total HVAC Electric Demand Power': 1197.281193442195}"
      ]
     },
     "metadata": {},
     "execution_count": 4
    }
   ],
   "source": [
    "# Accessing the latest observations:\n",
    "\n",
    "dict(zip(env.variables, env.current_obs))"
   ]
  },
  {
   "cell_type": "code",
   "execution_count": 5,
   "metadata": {},
   "outputs": [],
   "source": [
    "env.close()"
   ]
  },
  {
   "cell_type": "code",
   "execution_count": 6,
   "metadata": {},
   "outputs": [],
   "source": [
    "# Now the callback class"
   ]
  },
  {
   "cell_type": "code",
   "execution_count": 7,
   "metadata": {},
   "outputs": [],
   "source": [
    "from stable_baselines3.common.callbacks import BaseCallback\n",
    "from stable_baselines3 import DQN"
   ]
  },
  {
   "cell_type": "code",
   "execution_count": 8,
   "metadata": {},
   "outputs": [],
   "source": [
    "class DataAssimilationCallback(BaseCallback):\n",
    "    \n",
    "    def __init__(self, check_freq, actual_state, verbose=1):\n",
    "        super(DataAssimilationCallback, self).__init__(verbose)\n",
    "        self.check_freq = check_freq\n",
    "        # Number of time the callback was called:\n",
    "        self.n_calls = 0\n",
    "        # Actual state after step:\n",
    "        self.actual_state = actual_state\n",
    "\n",
    "\n",
    "\n",
    "    def _on_step(self) -> bool:\n",
    "        if self.n_calls % self.check_freq == 0:\n",
    "\n",
    "          # get current observation:\n",
    "          obs_state = env.current_obs\n",
    "          print(\"observed states:\")\n",
    "          print(obs_state)\n",
    "          print()\n",
    "\n",
    "          print(\"actual states:\")\n",
    "          print(self.actual_state)\n",
    "          print()\n",
    "          \n",
    "          # make the new states the mean of the observed and actual states:\n",
    "          env.update_states(self.actual_state)\n",
    "          print(\"new states:\")\n",
    "          print(env.current_obs)\n",
    "          print()\n",
    "\n",
    "          print(\"calls:\")\n",
    "          print(self.n_calls)\n",
    "          print()\n",
    "\n",
    "        return True    # set false for just one step"
   ]
  },
  {
   "cell_type": "code",
   "execution_count": 9,
   "metadata": {},
   "outputs": [
    {
     "output_type": "stream",
     "name": "stdout",
     "text": [
      "Using cpu device\nWrapping the env with a `Monitor` wrapper\nWrapping the env in a DummyVecEnv.\n[5.46412629e+00 6.60641263e+01 4.93912629e+00 1.46064126e+02\n 1.06412629e+00 1.06412629e+00 1.90641263e+01 2.80641263e+01\n 2.03775646e+01 2.05086312e+01 2.67342567e+01 1.81412628e+00\n 3.50481005e+01 1.06412629e+00 2.20362561e+01 1.19834532e+03\n 2.06412629e+00 2.06412629e+00 1.06412629e+00]\n"
     ]
    }
   ],
   "source": [
    "# Parameters:\n",
    "gamma = 0.9\n",
    "\n",
    "# Create environment:\n",
    "env = gym.make('Eplus-discrete-hot-v1')\n",
    "\n",
    "# Create model:\n",
    "model = DQN(\"MlpPolicy\", env, verbose=1, gamma = gamma)\n",
    "\n",
    "\n",
    "# Callback:\n",
    "s = obs + np.abs(np.random.normal())\n",
    "callback = DataAssimilationCallback(check_freq = 1, actual_state = s)\n",
    "\n",
    "print(s)"
   ]
  },
  {
   "cell_type": "code",
   "execution_count": 10,
   "metadata": {},
   "outputs": [
    {
     "output_type": "stream",
     "name": "stderr",
     "text": [
      "[2021-05-05 10:22:25,563] EPLUS_ENV_discrete-hot-v1_MainThread_ROOT INFO:Creating EnergyPlus simulation environment...\n",
      "[2021-05-05 10:22:25,563] EPLUS_ENV_discrete-hot-v1_MainThread_ROOT INFO:Creating EnergyPlus simulation environment...\n",
      "[2021-05-05 10:22:25,586] EPLUS_ENV_discrete-hot-v1_MainThread_ROOT INFO:EnergyPlus working directory is in /workspaces/energym/Eplus-env-discrete-hot-v1-res2/Eplus-env-sub_run1\n",
      "[2021-05-05 10:22:25,586] EPLUS_ENV_discrete-hot-v1_MainThread_ROOT INFO:EnergyPlus working directory is in /workspaces/energym/Eplus-env-discrete-hot-v1-res2/Eplus-env-sub_run1\n",
      "observed states:\n",
      "[4.40000000e+00 6.50000000e+01 3.87500000e+00 1.45000000e+02\n",
      " 0.00000000e+00 0.00000000e+00 1.50000000e+01 3.00000000e+01\n",
      " 1.93134384e+01 1.94445049e+01 2.56701305e+01 7.49999995e-01\n",
      " 3.39839742e+01 0.00000000e+00 2.09721298e+01 1.19728119e+03\n",
      " 1.00000000e+00 1.00000000e+00 0.00000000e+00]\n",
      "\n",
      "actual states:\n",
      "[5.46412629e+00 6.60641263e+01 4.93912629e+00 1.46064126e+02\n",
      " 1.06412629e+00 1.06412629e+00 1.90641263e+01 2.80641263e+01\n",
      " 2.03775646e+01 2.05086312e+01 2.67342567e+01 1.81412628e+00\n",
      " 3.50481005e+01 1.06412629e+00 2.20362561e+01 1.19834532e+03\n",
      " 2.06412629e+00 2.06412629e+00 1.06412629e+00]\n",
      "\n",
      "new states:\n",
      "[4.40106306e+00 6.50010631e+01 3.87606306e+00 1.45001063e+02\n",
      " 1.06306322e-03 1.06306322e-03 1.50040601e+01 2.99980661e+01\n",
      " 1.93145014e+01 1.94455679e+01 2.56711935e+01 7.51063058e-01\n",
      " 3.39850372e+01 1.06306322e-03 2.09731929e+01 1.19728226e+03\n",
      " 1.00106306e+00 1.00106306e+00 1.06306322e-03]\n",
      "\n",
      "calls:\n",
      "1\n",
      "\n",
      "observed states:\n",
      "[4.80000000e+00 6.10000000e+01 4.65000000e+00 1.60000000e+02\n",
      " 0.00000000e+00 0.00000000e+00 1.60000000e+01 2.90000000e+01\n",
      " 1.85784770e+01 1.86415084e+01 2.67245811e+01 7.49999995e-01\n",
      " 5.09039630e+01 0.00000000e+00 1.93134384e+01 1.44950692e+03\n",
      " 1.00000000e+00 1.00000000e+00 0.00000000e+00]\n",
      "\n",
      "actual states:\n",
      "[5.46412629e+00 6.60641263e+01 4.93912629e+00 1.46064126e+02\n",
      " 1.06412629e+00 1.06412629e+00 1.90641263e+01 2.80641263e+01\n",
      " 2.03775646e+01 2.05086312e+01 2.67342567e+01 1.81412628e+00\n",
      " 3.50481005e+01 1.06412629e+00 2.20362561e+01 1.19834532e+03\n",
      " 2.06412629e+00 2.06412629e+00 1.06412629e+00]\n",
      "\n",
      "new states:\n",
      "[4.80066346e+00 6.10050591e+01 4.65028884e+00 1.59986078e+02\n",
      " 1.06306322e-03 1.06306322e-03 1.60030611e+01 2.89990651e+01\n",
      " 1.85802743e+01 1.86433737e+01 2.67245908e+01 7.51063058e-01\n",
      " 5.08881229e+01 1.06306322e-03 1.93161584e+01 1.44925600e+03\n",
      " 1.00106306e+00 1.00106306e+00 1.06306322e-03]\n",
      "\n",
      "calls:\n",
      "2\n",
      "\n",
      "observed states:\n",
      "[5.20000000e+00 5.70000000e+01 5.42500000e+00 1.75000000e+02\n",
      " 0.00000000e+00 0.00000000e+00 2.20000000e+01 2.30000000e+01\n",
      " 1.95959166e+01 1.82129217e+01 2.49314946e+01 7.49999995e-01\n",
      " 5.92752679e+01 0.00000000e+00 1.85784770e+01 4.54795812e+03\n",
      " 1.00000000e+00 1.00000000e+00 0.00000000e+00]\n",
      "\n",
      "actual states:\n",
      "[5.46412629e+00 6.60641263e+01 4.93912629e+00 1.46064126e+02\n",
      " 1.06412629e+00 1.06412629e+00 1.90641263e+01 2.80641263e+01\n",
      " 2.03775646e+01 2.05086312e+01 2.67342567e+01 1.81412628e+00\n",
      " 3.50481005e+01 1.06412629e+00 2.20362561e+01 1.19834532e+03\n",
      " 2.06412629e+00 2.06412629e+00 1.06412629e+00]\n",
      "\n",
      "new states:\n",
      "[5.20026386e+00 5.70090551e+01 5.42451461e+00 1.74971093e+02\n",
      " 1.06306322e-03 1.06306322e-03 2.19970671e+01 2.30050591e+01\n",
      " 1.95966974e+01 1.82152151e+01 2.49332956e+01 7.51063058e-01\n",
      " 5.92510649e+01 1.06306322e-03 1.85819313e+01 4.54461185e+03\n",
      " 1.00106306e+00 1.00106306e+00 1.06306322e-03]\n",
      "\n",
      "calls:\n",
      "3\n",
      "\n",
      "observed states:\n",
      "[5.60000000e+00 5.30000000e+01 6.20000000e+00 1.90000000e+02\n",
      " 0.00000000e+00 0.00000000e+00 2.00000000e+01 2.50000000e+01\n",
      " 1.98667689e+01 1.85982913e+01 2.43493361e+01 7.49999995e-01\n",
      " 4.91219259e+01 0.00000000e+00 1.95959166e+01 4.37740466e+03\n",
      " 1.00000000e+00 1.00000000e+00 1.00000000e+00]\n",
      "\n",
      "actual states:\n",
      "[5.46412629e+00 6.60641263e+01 4.93912629e+00 1.46064126e+02\n",
      " 1.06412629e+00 1.06412629e+00 1.90641263e+01 2.80641263e+01\n",
      " 2.03775646e+01 2.05086312e+01 2.67342567e+01 1.81412628e+00\n",
      " 3.50481005e+01 1.06412629e+00 2.20362561e+01 1.19834532e+03\n",
      " 2.06412629e+00 2.06412629e+00 1.06412629e+00]\n",
      "\n",
      "new states:\n",
      "[5.59986426e+00 5.30130511e+01 6.19874039e+00 1.89956108e+02\n",
      " 1.06306322e-03 1.06306322e-03 1.99990651e+01 2.50030611e+01\n",
      " 1.98672792e+01 1.86001997e+01 2.43517187e+01 7.51063058e-01\n",
      " 4.91078661e+01 1.06306322e-03 1.95983545e+01 4.37422878e+03\n",
      " 1.00106306e+00 1.00106306e+00 1.00006406e+00]\n",
      "\n",
      "calls:\n",
      "4\n",
      "\n"
     ]
    },
    {
     "output_type": "execute_result",
     "data": {
      "text/plain": [
       "<stable_baselines3.dqn.dqn.DQN at 0x7f31873ddfd0>"
      ]
     },
     "metadata": {},
     "execution_count": 10
    }
   ],
   "source": [
    "model.learn(total_timesteps=4, callback=callback)"
   ]
  },
  {
   "cell_type": "code",
   "execution_count": null,
   "metadata": {},
   "outputs": [],
   "source": []
  },
  {
   "cell_type": "code",
   "execution_count": 11,
   "metadata": {},
   "outputs": [
    {
     "output_type": "stream",
     "name": "stderr",
     "text": [
      "[2021-05-05 10:22:27,047] EPLUS_ENV_discrete-hot-v1_MainThread_ROOT INFO:Creating EnergyPlus simulation environment...\n",
      "[2021-05-05 10:22:27,047] EPLUS_ENV_discrete-hot-v1_MainThread_ROOT INFO:Creating EnergyPlus simulation environment...\n",
      "[2021-05-05 10:22:27,047] EPLUS_ENV_discrete-hot-v1_MainThread_ROOT INFO:Creating EnergyPlus simulation environment...\n",
      "[2021-05-05 10:22:27,054] EPLUS_ENV_discrete-hot-v1_MainThread_ROOT INFO:EnergyPlus working directory is in /workspaces/energym/Eplus-env-discrete-hot-v1-res3/Eplus-env-sub_run1\n",
      "[2021-05-05 10:22:27,054] EPLUS_ENV_discrete-hot-v1_MainThread_ROOT INFO:EnergyPlus working directory is in /workspaces/energym/Eplus-env-discrete-hot-v1-res3/Eplus-env-sub_run1\n",
      "[2021-05-05 10:22:27,054] EPLUS_ENV_discrete-hot-v1_MainThread_ROOT INFO:EnergyPlus working directory is in /workspaces/energym/Eplus-env-discrete-hot-v1-res3/Eplus-env-sub_run1\n",
      "initial observations:\n",
      "None\n",
      "\n",
      "current observations:\n",
      "[4.40000000e+00 6.50000000e+01 3.87500000e+00 1.45000000e+02\n",
      " 0.00000000e+00 0.00000000e+00 1.60000000e+01 2.90000000e+01\n",
      " 1.93134384e+01 1.94445049e+01 2.56701305e+01 7.49999995e-01\n",
      " 3.39839742e+01 0.00000000e+00 2.09721298e+01 1.19728119e+03\n",
      " 1.00000000e+00 1.00000000e+00 0.00000000e+00]\n",
      "\n",
      "new observations:\n",
      "[4.40049950e+00 6.50004995e+01 3.87549950e+00 1.45000500e+02\n",
      " 4.99500500e-04 4.99500500e-04 1.60004995e+01 2.90004995e+01\n",
      " 1.93139379e+01 1.94450044e+01 2.56706300e+01 7.50499496e-01\n",
      " 3.39844737e+01 4.99500500e-04 2.09726293e+01 1.19728169e+03\n",
      " 1.00049950e+00 1.00049950e+00 4.99500500e-04]\n",
      "\n",
      "initial observations:\n",
      "[4.40049950e+00 6.50004995e+01 3.87549950e+00 1.45000500e+02\n",
      " 4.99500500e-04 4.99500500e-04 1.60004995e+01 2.90004995e+01\n",
      " 1.93139379e+01 1.94450044e+01 2.56706300e+01 7.50499496e-01\n",
      " 3.39844737e+01 4.99500500e-04 2.09726293e+01 1.19728169e+03\n",
      " 1.00049950e+00 1.00049950e+00 4.99500500e-04]\n",
      "\n",
      "current observations:\n",
      "[4.80000000e+00 6.10000000e+01 4.65000000e+00 1.60000000e+02\n",
      " 0.00000000e+00 0.00000000e+00 1.50000000e+01 3.00000000e+01\n",
      " 1.85784770e+01 1.86415084e+01 2.67245811e+01 7.49999995e-01\n",
      " 5.09039630e+01 0.00000000e+00 1.93134384e+01 1.44950692e+03\n",
      " 1.00000000e+00 1.00000000e+00 0.00000000e+00]\n",
      "\n",
      "new observations:\n",
      "[4.80049950e+00 6.10004995e+01 4.65049950e+00 1.60000500e+02\n",
      " 4.99500500e-04 4.99500500e-04 1.50004995e+01 3.00004995e+01\n",
      " 1.85789765e+01 1.86420079e+01 2.67250806e+01 7.50499496e-01\n",
      " 5.09044625e+01 4.99500500e-04 1.93139379e+01 1.44950741e+03\n",
      " 1.00049950e+00 1.00049950e+00 4.99500500e-04]\n",
      "\n",
      "initial observations:\n",
      "[4.80049950e+00 6.10004995e+01 4.65049950e+00 1.60000500e+02\n",
      " 4.99500500e-04 4.99500500e-04 1.50004995e+01 3.00004995e+01\n",
      " 1.85789765e+01 1.86420079e+01 2.67250806e+01 7.50499496e-01\n",
      " 5.09044625e+01 4.99500500e-04 1.93139379e+01 1.44950741e+03\n",
      " 1.00049950e+00 1.00049950e+00 4.99500500e-04]\n",
      "\n",
      "current observations:\n",
      "[5.20000000e+00 5.70000000e+01 5.42500000e+00 1.75000000e+02\n",
      " 0.00000000e+00 0.00000000e+00 2.10000000e+01 2.40000000e+01\n",
      " 1.95959166e+01 1.82129217e+01 2.49314946e+01 7.49999995e-01\n",
      " 5.92752679e+01 0.00000000e+00 1.85784770e+01 4.54795812e+03\n",
      " 1.00000000e+00 1.00000000e+00 0.00000000e+00]\n",
      "\n",
      "new observations:\n",
      "[5.20049950e+00 5.70004995e+01 5.42549950e+00 1.75000500e+02\n",
      " 4.99500500e-04 4.99500500e-04 2.10004995e+01 2.40004995e+01\n",
      " 1.95964161e+01 1.82134212e+01 2.49319941e+01 7.50499496e-01\n",
      " 5.92757674e+01 4.99500500e-04 1.85789765e+01 4.54795862e+03\n",
      " 1.00049950e+00 1.00049950e+00 4.99500500e-04]\n",
      "\n",
      "initial observations:\n",
      "[5.20049950e+00 5.70004995e+01 5.42549950e+00 1.75000500e+02\n",
      " 4.99500500e-04 4.99500500e-04 2.10004995e+01 2.40004995e+01\n",
      " 1.95964161e+01 1.82134212e+01 2.49319941e+01 7.50499496e-01\n",
      " 5.92757674e+01 4.99500500e-04 1.85789765e+01 4.54795862e+03\n",
      " 1.00049950e+00 1.00049950e+00 4.99500500e-04]\n",
      "\n",
      "current observations:\n",
      "[5.60000000e+00 5.30000000e+01 6.20000000e+00 1.90000000e+02\n",
      " 0.00000000e+00 0.00000000e+00 2.10000000e+01 2.10000000e+01\n",
      " 1.99203632e+01 1.85982913e+01 2.42693715e+01 7.49999995e-01\n",
      " 4.91219259e+01 0.00000000e+00 1.95959166e+01 4.52730102e+03\n",
      " 1.00000000e+00 1.00000000e+00 1.00000000e+00]\n",
      "\n",
      "new observations:\n",
      "[5.60049950e+00 5.30004995e+01 6.20049950e+00 1.90000500e+02\n",
      " 4.99500500e-04 4.99500500e-04 2.10004995e+01 2.10004995e+01\n",
      " 1.99208627e+01 1.85987908e+01 2.42698710e+01 7.50499496e-01\n",
      " 4.91224254e+01 4.99500500e-04 1.95964161e+01 4.52730152e+03\n",
      " 1.00049950e+00 1.00049950e+00 1.00049950e+00]\n",
      "\n",
      "initial observations:\n",
      "[5.60049950e+00 5.30004995e+01 6.20049950e+00 1.90000500e+02\n",
      " 4.99500500e-04 4.99500500e-04 2.10004995e+01 2.10004995e+01\n",
      " 1.99208627e+01 1.85987908e+01 2.42698710e+01 7.50499496e-01\n",
      " 4.91224254e+01 4.99500500e-04 1.95964161e+01 4.52730152e+03\n",
      " 1.00049950e+00 1.00049950e+00 1.00049950e+00]\n",
      "\n",
      "current observations:\n",
      "[5.35000000e+00 5.42500000e+01 6.05000000e+00 1.92500000e+02\n",
      " 0.00000000e+00 0.00000000e+00 2.20000000e+01 2.20000000e+01\n",
      " 2.00191727e+01 1.86964637e+01 2.39736550e+01 7.49999995e-01\n",
      " 4.61775340e+01 0.00000000e+00 1.99203632e+01 4.55722976e+03\n",
      " 1.00000000e+00 1.00000000e+00 1.00000000e+00]\n",
      "\n",
      "new observations:\n",
      "[5.35049950e+00 5.42504995e+01 6.05049950e+00 1.92500500e+02\n",
      " 4.99500500e-04 4.99500500e-04 2.20004995e+01 2.20004995e+01\n",
      " 2.00196722e+01 1.86969633e+01 2.39741545e+01 7.50499496e-01\n",
      " 4.61780335e+01 4.99500500e-04 1.99208627e+01 4.55723026e+03\n",
      " 1.00049950e+00 1.00049950e+00 1.00049950e+00]\n",
      "\n"
     ]
    }
   ],
   "source": [
    "env = gym.make('Eplus-discrete-hot-v1')\n",
    "\n",
    "for i in range(1):\n",
    "    obs = env.reset()\n",
    "    rewards = []\n",
    "    total_power = []\n",
    "    temp = []\n",
    "    out_temp = []\n",
    "    actions = []\n",
    "    done = False\n",
    "    current_month = 0\n",
    "    for i in range(5):\n",
    "        print(\"initial observations:\")\n",
    "        print(env.current_obs)\n",
    "        print()\n",
    "        a = env.action_space.sample()\n",
    "        obs, reward, done, info = env.step(a)\n",
    "        print(\"current observations:\")\n",
    "        print(obs)\n",
    "        print()\n",
    "        env.update_states(obs + 0.5)\n",
    "        print(\"new observations:\")\n",
    "        print(env.current_obs)\n",
    "        print()\n",
    "\n",
    "env.close()"
   ]
  },
  {
   "cell_type": "code",
   "execution_count": 12,
   "metadata": {},
   "outputs": [],
   "source": [
    "# Seems to work! Now to actually implement with real states data (for each timestep) and proper BLUE algorithm"
   ]
  },
  {
   "cell_type": "code",
   "execution_count": null,
   "metadata": {},
   "outputs": [],
   "source": []
  }
 ]
}